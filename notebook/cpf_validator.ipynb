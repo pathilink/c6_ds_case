{
 "cells": [
  {
   "cell_type": "markdown",
   "metadata": {},
   "source": [
    "<h1 align=\"center\"> <span style=\"background-color: #000000; color: #ffffff;\"> C6 Bank | Data Science | CPF Validator </span> </h1>"
   ]
  },
  {
   "cell_type": "markdown",
   "metadata": {},
   "source": [
    "## Table of Contents\n",
    "\n",
    "[1. Libraries](#1.-Libraries)\n",
    "\n",
    "[2. Input](#2.-Input)\n",
    "\n",
    "[3. Pure Python](#3.-Pure-Python)\n",
    "\n",
    "[4. Python with NumPy](#4.-Python-with-NumPy)\n"
   ]
  },
  {
   "cell_type": "markdown",
   "metadata": {},
   "source": [
    "## 1. Libraries\n",
    "[Return to Table of Contents](#Table-of-Contents)"
   ]
  },
  {
   "cell_type": "code",
   "execution_count": 1,
   "metadata": {},
   "outputs": [],
   "source": [
    "import numpy as np\n",
    "import time"
   ]
  },
  {
   "cell_type": "markdown",
   "metadata": {},
   "source": [
    "## 2. Input\n",
    "[Return to Table of Contents](#Table-of-Contents)"
   ]
  },
  {
   "cell_type": "code",
   "execution_count": null,
   "metadata": {},
   "outputs": [],
   "source": [
    "cpf = input('Type the CPF (only numbers) and press ENTER: ')"
   ]
  },
  {
   "cell_type": "markdown",
   "metadata": {},
   "source": [
    "## 3. Pure Python\n",
    "[Return to Table of Contents](#Table-of-Contents)"
   ]
  },
  {
   "cell_type": "code",
   "execution_count": null,
   "metadata": {},
   "outputs": [],
   "source": [
    "# 1st digit calculation\n",
    "def check1(doc):\n",
    "    \n",
    "    weight_check1 = 10\n",
    "    total_check1 = 0\n",
    "\n",
    "    for i in range(9):   \n",
    "        total_check1 += int(doc[i]) * weight_check1\n",
    "        weight_check1 -= 1\n",
    "\n",
    "    if total_check1 % 11 < 2:\n",
    "        n_check1 = 0\n",
    "    else:\n",
    "        n_check1 = 11 - (total_check1 % 11)\n",
    "        \n",
    "    return n_check1\n",
    "\n",
    "\n",
    "# 2st digit calculation\n",
    "def check2(doc):\n",
    "    \n",
    "    weight_check2 = 11\n",
    "    total_check2 = 0\n",
    "\n",
    "    for i in range(10):   \n",
    "        total_check2 += int(doc[i]) * weight_check2\n",
    "        weight_check2 -= 1\n",
    "\n",
    "    if total_check2 % 11 < 2:\n",
    "        n_check2 = 0\n",
    "    else:\n",
    "        n_check2 = 11 - (total_check2 % 11)\n",
    "  \n",
    "    return n_check2\n",
    "\n",
    "\n",
    "# validation\n",
    "def validate_cpf(doc):\n",
    "    # remove non-numeric characters if they exist\n",
    "    doc = ''.join(filter(str.isdigit, doc))\n",
    "    \n",
    "    # verify the size is correct\n",
    "    if len(doc) == 11:\n",
    "        dig1 = check1(doc)\n",
    "        dig2 = check2(doc)\n",
    "        if dig1 == int(cpf[-2:-1]) and dig2 == int(cpf[-1:]):\n",
    "            print('Valid CPF.') \n",
    "        else:\n",
    "            print('Not valid CPF.')        \n",
    "    else:\n",
    "        print('Not valid CPF.')\n",
    "\n",
    "# validate_cpf(cpf)"
   ]
  },
  {
   "cell_type": "code",
   "execution_count": null,
   "metadata": {},
   "outputs": [],
   "source": [
    "start_time = time.time()\n",
    "\n",
    "validate_cpf(cpf)\n",
    "\n",
    "end_time = time.time()\n",
    "\n",
    "execution_time = end_time - start_time\n",
    "print(f\"Execution time: {execution_time} seconds\")\n"
   ]
  },
  {
   "cell_type": "markdown",
   "metadata": {},
   "source": [
    "## 4. Python with NumPy\n",
    "[Return to Table of Contents](#Table-of-Contents)"
   ]
  },
  {
   "cell_type": "code",
   "execution_count": null,
   "metadata": {},
   "outputs": [],
   "source": [
    "# check digits\n",
    "def check(doc):\n",
    "    l = []\n",
    "    weight_check1 = [10, 9, 8, 7, 6, 5, 4, 3, 2]\n",
    "    weight_check2 = [11, 10, 9, 8, 7, 6, 5, 4, 3, 2]\n",
    "\n",
    "    for char in doc:\n",
    "        if char.isdigit():\n",
    "            l.append(int(char))\n",
    "            \n",
    "    total_check1 = np.dot(np.array(l[:9]), np.array(weight_check1))\n",
    "    total_check2 = np.dot(np.array(l[:10]), np.array(weight_check2))\n",
    "    \n",
    "    if total_check1 % 11 < 2:\n",
    "        n_check1 = 0\n",
    "    else:\n",
    "        n_check1 = 11 - (total_check1 % 11)\n",
    "        \n",
    "    if total_check2 % 11 < 2:\n",
    "        n_check2 = 0\n",
    "    else:\n",
    "        n_check2 = 11 - (total_check2 % 11)\n",
    "        \n",
    "    return n_check1, n_check2\n",
    "\n",
    "\n",
    "# validation\n",
    "def validate_cpf_np(doc):\n",
    "    # remove non-numeric characters if they exist\n",
    "    doc = ''.join(filter(str.isdigit, doc))\n",
    "    \n",
    "    # verify the size is correct\n",
    "    if len(doc) == 11:\n",
    "        dig1 = check(doc)[0]\n",
    "        dig2 = check(doc)[1]\n",
    "        if dig1 == int(cpf[-2:-1]) and dig2 == int(cpf[-1:]):\n",
    "            print('Valid CPF.') \n",
    "        else:\n",
    "            print('Not valid CPF.')        \n",
    "    else:\n",
    "        print('Not valid CPF.')"
   ]
  },
  {
   "cell_type": "code",
   "execution_count": null,
   "metadata": {},
   "outputs": [],
   "source": [
    "start_time = time.time()\n",
    "\n",
    "validate_cpf_np(cpf)\n",
    "\n",
    "end_time = time.time()\n",
    "\n",
    "execution_time = end_time - start_time\n",
    "print(f\"Execution time: {execution_time} seconds\")"
   ]
  },
  {
   "cell_type": "code",
   "execution_count": null,
   "metadata": {},
   "outputs": [],
   "source": []
  }
 ],
 "metadata": {
  "kernelspec": {
   "display_name": "Python 3",
   "language": "python",
   "name": "python3"
  },
  "language_info": {
   "codemirror_mode": {
    "name": "ipython",
    "version": 3
   },
   "file_extension": ".py",
   "mimetype": "text/x-python",
   "name": "python",
   "nbconvert_exporter": "python",
   "pygments_lexer": "ipython3",
   "version": "3.6.9"
  }
 },
 "nbformat": 4,
 "nbformat_minor": 4
}
