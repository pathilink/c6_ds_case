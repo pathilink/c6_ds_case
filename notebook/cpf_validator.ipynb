{
 "cells": [
  {
   "cell_type": "markdown",
   "metadata": {},
   "source": [
    "<h1 align=\"center\"> <span style=\"background-color: #000000; color: #ffffff;\"> C6 Bank | Data Science | CPF Validator </span> </h1>"
   ]
  },
  {
   "cell_type": "code",
   "execution_count": 29,
   "metadata": {},
   "outputs": [
    {
     "name": "stdout",
     "output_type": "stream",
     "text": [
      "Type your CPF (only numbers) and press ENTER:28886773854\n"
     ]
    }
   ],
   "source": [
    "cpf = input('Type the CPF (only numbers) and press ENTER: ')\n",
    "# print('The number CPF is:', cpf)"
   ]
  },
  {
   "cell_type": "code",
   "execution_count": 69,
   "metadata": {},
   "outputs": [],
   "source": [
    "# 1st digit calculation\n",
    "def check1(doc):\n",
    "    \n",
    "    weight_check1 = 10\n",
    "    total_check1 = 0\n",
    "\n",
    "    for i in range(9):   \n",
    "        total_check1 += int(doc[i]) * weight_check1\n",
    "        weight_check1 -= 1\n",
    "\n",
    "    if total_check1 % 11 < 2:\n",
    "        n_check1 = 0\n",
    "    else:\n",
    "        n_check1 = 11 - (total_check1 % 11)\n",
    "        \n",
    "    return n_check1\n",
    "\n",
    "\n",
    "# 2st digit calculation\n",
    "def check2(doc):\n",
    "    \n",
    "    weight_check2 = 11\n",
    "    total_check2 = 0\n",
    "\n",
    "    for i in range(10):   \n",
    "        total_check2 += int(doc[i]) * weight_check2\n",
    "        weight_check2 -= 1\n",
    "\n",
    "    if total_check2 % 11 < 2:\n",
    "        n_check2 = 0\n",
    "    else:\n",
    "        n_check2 = 11 - (total_check2 % 11)\n",
    "  \n",
    "    return n_check2\n",
    "\n",
    "\n",
    "# validation\n",
    "def validate_cpf(doc):\n",
    "    # remove non-numeric characters if they exist\n",
    "    doc = ''.join(filter(str.isdigit, doc))\n",
    "    \n",
    "    # verify the size is correct\n",
    "    if len(doc) == 11:\n",
    "        dig1 = check1(doc)\n",
    "        dig2 = check2(doc)\n",
    "        if n_check1 == int(cpf[-2:-1]) and n_check2 == int(cpf[-1:]):\n",
    "            print('Valid CPF.') \n",
    "        else:\n",
    "            print('Not valid CPF.')        \n",
    "    else:\n",
    "        print('Not valid CPF.')"
   ]
  },
  {
   "cell_type": "code",
   "execution_count": 70,
   "metadata": {},
   "outputs": [
    {
     "name": "stdout",
     "output_type": "stream",
     "text": [
      "Valid CPF.\n"
     ]
    }
   ],
   "source": [
    "validate_cpf(cpf)"
   ]
  },
  {
   "cell_type": "code",
   "execution_count": 67,
   "metadata": {},
   "outputs": [],
   "source": []
  },
  {
   "cell_type": "code",
   "execution_count": null,
   "metadata": {},
   "outputs": [],
   "source": []
  },
  {
   "cell_type": "code",
   "execution_count": null,
   "metadata": {},
   "outputs": [],
   "source": []
  },
  {
   "cell_type": "code",
   "execution_count": null,
   "metadata": {},
   "outputs": [],
   "source": []
  }
 ],
 "metadata": {
  "kernelspec": {
   "display_name": "Python 3",
   "language": "python",
   "name": "python3"
  },
  "language_info": {
   "codemirror_mode": {
    "name": "ipython",
    "version": 3
   },
   "file_extension": ".py",
   "mimetype": "text/x-python",
   "name": "python",
   "nbconvert_exporter": "python",
   "pygments_lexer": "ipython3",
   "version": "3.6.9"
  }
 },
 "nbformat": 4,
 "nbformat_minor": 4
}
